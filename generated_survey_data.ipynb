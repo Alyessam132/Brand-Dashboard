{
 "cells": [
  {
   "cell_type": "code",
   "execution_count": 1,
   "id": "8fd7780b-43ff-428d-aca6-f8b388903a0b",
   "metadata": {
    "tags": []
   },
   "outputs": [],
   "source": [
    "import random\n",
    "import pandas as pd\n",
    "import numpy as np"
   ]
  },
  {
   "cell_type": "code",
   "execution_count": 2,
   "id": "683b66db-616e-438a-b0ea-6607b85ff42d",
   "metadata": {
    "tags": []
   },
   "outputs": [],
   "source": [
    "masked_df = pd.DataFrame()"
   ]
  },
  {
   "cell_type": "code",
   "execution_count": 3,
   "id": "4ccb0300-4c4f-413b-80f0-c0cd9759d0f1",
   "metadata": {
    "tags": []
   },
   "outputs": [],
   "source": [
    "regions = ['Cairo','Alex','Delta','Upper Egypt','Canal']\n",
    "SEC = ['A','B','C1','C2','D','E']\n",
    "no_of_ids = 1000\n",
    "\n",
    "mean = 38.5\n",
    "stdev = 12/3  \n",
    "masked_df['ID'] = [random.randint(1000001,9999999) for _ in range(no_of_ids)]\n",
    "masked_df['Age'] = [random.gauss(mean, stdev) for _ in range(no_of_ids)]\n",
    "masked_df['Age'] = masked_df['Age'].astype(int)\n",
    "masked_df['Gender'] = [random.choice(['Male','Female']) for _ in range(no_of_ids)]\n",
    "masked_df['Region'] = random.choices(regions,weights=([20,10,40,25,5]),k=1000)\n",
    "masked_df['SEC'] = random.choices(SEC,weights=([5,5,15,25,45,5]),k=1000)"
   ]
  },
  {
   "cell_type": "code",
   "execution_count": 4,
   "id": "8536a6aa-1166-4116-8ebd-ac37ba251580",
   "metadata": {
    "tags": []
   },
   "outputs": [],
   "source": [
    "Products = ['P' + str(x) for x in range(1,11)] \n",
    "Q1 = ['Q1' + '_' + x for x in Products]\n",
    "Q2 = ['Q2' + '_' + x for x in Products]\n",
    "Q3 = ['Q3' + '_' + x for x in Products]\n",
    "tot_aw = ['tot_aw' + '_' + x for x in Products]\n",
    "Ever_used = ['Ever_used' + '_' + x for x in Products]\n",
    "P3M = ['P3M' + '_' + x for x in Products]\n",
    "P1M = ['P1M' + '_' + x for x in Products]\n",
    "MOU = ['MOU' + '_' + x for x in Products]"
   ]
  },
  {
   "cell_type": "code",
   "execution_count": 5,
   "id": "4ad30c55-6c7f-46fa-a5ac-6676af6bfc7b",
   "metadata": {
    "tags": []
   },
   "outputs": [
    {
     "name": "stderr",
     "output_type": "stream",
     "text": [
      "C:\\Users\\Aly.Essam\\AppData\\Local\\Temp\\ipykernel_7532\\1904907617.py:4: FutureWarning: Setting an item of incompatible dtype is deprecated and will raise in a future error of pandas. Value '0' has dtype incompatible with float64, please explicitly cast to a compatible dtype first.\n",
      "  masked_df.loc[i,Q1] = digits\n",
      "C:\\Users\\Aly.Essam\\AppData\\Local\\Temp\\ipykernel_7532\\1904907617.py:4: FutureWarning: Setting an item of incompatible dtype is deprecated and will raise in a future error of pandas. Value '1' has dtype incompatible with float64, please explicitly cast to a compatible dtype first.\n",
      "  masked_df.loc[i,Q1] = digits\n"
     ]
    }
   ],
   "source": [
    "digits = ['0'] * (len(Products) -1) + ['1'] * 1\n",
    "for i in range(0,len(masked_df)):\n",
    "    random.shuffle(digits)\n",
    "    masked_df.loc[i,Q1] = digits\n",
    "\n",
    "    "
   ]
  },
  {
   "cell_type": "code",
   "execution_count": 6,
   "id": "85e4c174-fde3-4dfa-bb0b-d6808dbec452",
   "metadata": {
    "tags": []
   },
   "outputs": [],
   "source": [
    "def Question_generator(df,list1,list2,list3,reslist):\n",
    "    for i in range(0,len(df)):\n",
    "        for j in range(0,len(Products)):\n",
    "            if masked_df.loc[i,list1[j]] == '1' or masked_df.loc[i,list2[j]] == '1' or masked_df.loc[i,list3[j]] == '1':\n",
    "                masked_df.loc[i,reslist[j]] = '0'\n",
    "            else:\n",
    "                masked_df.loc[i,reslist[j]] = random.choice(['1','0'])"
   ]
  },
  {
   "cell_type": "code",
   "execution_count": 7,
   "id": "f56887f1-886f-46a5-bef9-a3b02f5cca45",
   "metadata": {
    "tags": []
   },
   "outputs": [],
   "source": [
    "def funnel_generator(df,list1,reslist):\n",
    "    for i in range(0,len(masked_df)):\n",
    "        for j in range(0,len(Products)):\n",
    "            if masked_df.loc[i,list1[j]] == '1':\n",
    "                masked_df.loc[i,reslist[j]] = random.choice(['1','0'])\n",
    "            else:\n",
    "                masked_df.loc[i,reslist[j]] = '0'"
   ]
  },
  {
   "cell_type": "code",
   "execution_count": 8,
   "id": "36cede5a-69d1-4de9-82e8-2582386a125d",
   "metadata": {
    "tags": []
   },
   "outputs": [],
   "source": [
    "Question_generator(masked_df,Q1,Q1,Q1,Q2)\n",
    "Question_generator(masked_df,Q1,Q1,Q2,Q3)"
   ]
  },
  {
   "cell_type": "code",
   "execution_count": 9,
   "id": "60c83fc1-82ab-439f-9712-a293a5074075",
   "metadata": {
    "tags": []
   },
   "outputs": [],
   "source": [
    "for i in range(0,len(masked_df)):\n",
    "    for j in range(0,len(Products)):\n",
    "        if masked_df.loc[i,Q1[j]] == '1' or masked_df.loc[i,Q2[j]] == '1' or masked_df.loc[i,Q3[j]] == '1':\n",
    "            masked_df.loc[i,tot_aw[j]] = '1'\n",
    "        else:\n",
    "            masked_df.loc[i,tot_aw[j]] = '0' "
   ]
  },
  {
   "cell_type": "code",
   "execution_count": 10,
   "id": "870e9f67-91ee-4640-a1b4-20266fb9fbc8",
   "metadata": {
    "tags": []
   },
   "outputs": [],
   "source": [
    "funnel_generator(masked_df,tot_aw,Ever_used)\n",
    "funnel_generator(masked_df,Ever_used,P3M)\n",
    "funnel_generator(masked_df,P3M,P1M)\n"
   ]
  },
  {
   "cell_type": "code",
   "execution_count": 11,
   "id": "c8a741f2-85ef-4033-9774-524484b9cd01",
   "metadata": {
    "tags": []
   },
   "outputs": [
    {
     "name": "stderr",
     "output_type": "stream",
     "text": [
      "C:\\Users\\Aly.Essam\\AppData\\Local\\Temp\\ipykernel_7532\\2451214564.py:11: FutureWarning: Setting an item of incompatible dtype is deprecated and will raise in a future error of pandas. Value '1' has dtype incompatible with float64, please explicitly cast to a compatible dtype first.\n",
      "  masked_df.loc[i,[MOU[x] for x in P1M_list]] = digits\n",
      "C:\\Users\\Aly.Essam\\AppData\\Local\\Temp\\ipykernel_7532\\2451214564.py:11: FutureWarning: Setting an item of incompatible dtype is deprecated and will raise in a future error of pandas. Value '0' has dtype incompatible with float64, please explicitly cast to a compatible dtype first.\n",
      "  masked_df.loc[i,[MOU[x] for x in P1M_list]] = digits\n"
     ]
    }
   ],
   "source": [
    "for i in range(0,len(masked_df)):\n",
    "    P1M_list = []\n",
    "    for j in range(0,len(Products)):\n",
    "        if masked_df.loc[i,P1M[j]] == '1':\n",
    "            P1M_list.append(j)\n",
    "        else :\n",
    "            masked_df.loc[i,MOU[j]] = '0'\n",
    "    if (len(P1M_list) > 0):\n",
    "        digits = ['0'] * (len(P1M_list) -1) + ['1'] * 1\n",
    "        random.shuffle(digits)\n",
    "        masked_df.loc[i,[MOU[x] for x in P1M_list]] = digits             "
   ]
  },
  {
   "cell_type": "code",
   "execution_count": 12,
   "id": "c5604285-7f81-4252-85a2-7ff07a023063",
   "metadata": {
    "tags": []
   },
   "outputs": [],
   "source": [
    "var_data = ['ID','Age','SEC','Gender','Region']\n",
    "\n",
    "masked_df_unpivot = pd.melt(masked_df,id_vars = var_data, value_vars = masked_df.columns,   var_name = 'Question code', \n",
    "       value_name = 'value')"
   ]
  },
  {
   "cell_type": "code",
   "execution_count": 13,
   "id": "8dedae56-93da-47dc-b278-0ad357671264",
   "metadata": {
    "tags": []
   },
   "outputs": [],
   "source": [
    "masked_df_unpivot.to_csv('final.csv',index = False)"
   ]
  },
  {
   "cell_type": "code",
   "execution_count": null,
   "id": "6c58475e-dc9d-4c8f-acfb-2e33aa7231c9",
   "metadata": {},
   "outputs": [],
   "source": []
  }
 ],
 "metadata": {
  "kernelspec": {
   "display_name": "Python 3 (ipykernel)",
   "language": "python",
   "name": "python3"
  },
  "language_info": {
   "codemirror_mode": {
    "name": "ipython",
    "version": 3
   },
   "file_extension": ".py",
   "mimetype": "text/x-python",
   "name": "python",
   "nbconvert_exporter": "python",
   "pygments_lexer": "ipython3",
   "version": "3.11.5"
  }
 },
 "nbformat": 4,
 "nbformat_minor": 5
}
